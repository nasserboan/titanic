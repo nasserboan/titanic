{
 "cells": [
  {
   "cell_type": "code",
   "execution_count": 183,
   "metadata": {
    "scrolled": true
   },
   "outputs": [],
   "source": [
    "## utils\n",
    "import pandas as pd\n",
    "import numpy as np\n",
    "import re\n",
    "import seaborn as sns\n",
    "import matplotlib.pyplot as plt\n",
    "import statistics\n",
    "import math\n",
    "from scipy.stats import pointbiserialr\n",
    "\n",
    "sns.set_style('white')\n",
    "\n",
    "## impute\n",
    "from sklearn.impute import SimpleImputer\n",
    "\n",
    "## one-hot encoding and scaler\n",
    "from sklearn.preprocessing import OneHotEncoder, MinMaxScaler, StandardScaler, QuantileTransformer\n",
    "\n",
    "## column transformer\n",
    "from sklearn.compose import make_column_transformer\n",
    "\n",
    "## pipeline\n",
    "from sklearn.pipeline import make_pipeline\n",
    "\n",
    "## train test split\n",
    "from sklearn.model_selection import train_test_split\n",
    "\n",
    "## models - machine learning\n",
    "from sklearn.linear_model import LogisticRegression\n",
    "from sklearn.ensemble import RandomForestClassifier\n",
    "from sklearn.svm import SVC\n",
    "\n",
    "## models -- deep learning\n",
    "import keras"
   ]
  },
  {
   "cell_type": "markdown",
   "metadata": {},
   "source": [
    "# Titanic Challenge\n",
    "___\n",
    "\n",
    "The main purpose of this challenge is to introduce users to their first classification problem. Using the data science process we will:\n",
    "\n",
    "1. Business Understanding\n",
    "   \n",
    "2. Data Understanding\n",
    "\n",
    "3. Data preparation\n",
    "\n",
    "4. Modeling\n",
    "\n",
    "5. Evaluation\n",
    "\n",
    "6. Submition"
   ]
  },
  {
   "cell_type": "markdown",
   "metadata": {},
   "source": [
    "#### Business Understanding\n",
    "___\n",
    "\n",
    "Hypothetical situation:\n",
    "\n",
    "I was just hired for a data scientist job at a huge naval construction company. The company is called 'Iceberg' and they're going to make a real life functioning Titanic replica, my boss asked me to find the data from the original Titanic and usa machine learning to help him prepare for the worst. The main question was :\n",
    "\n",
    "> \"If our replica falls into the same situation as the original titanic, is there any way to predict who is going to survive?\".\n",
    "\n",
    "RMS Titanic was a British passenger liner that sank in the North Atlantic Ocean in the early morning hours of April 15, 1912 after striking an iceberg during her maiden voyage from Southampton to New York City. Of the estimated 2,224 passengers and crew aboard, more than 1,500 died, making the sinking one of modern history's deadliest peacetime commercial marine disasters ... The final survivor of the sinking, Millvina Dean, aged two months at the time, died in 2009 at the age of 97 [1].\n",
    "\n",
    "[1] https://en.wikipedia.org/wiki/RMS_Titanic"
   ]
  },
  {
   "cell_type": "markdown",
   "metadata": {},
   "source": [
    "#### Reading the data\n",
    "___"
   ]
  },
  {
   "cell_type": "code",
   "execution_count": 243,
   "metadata": {},
   "outputs": [],
   "source": [
    "## reading the train and test data\n",
    "\n",
    "train = pd.read_csv('../data/train.csv')\n",
    "test = pd.read_csv('../data/test.csv')"
   ]
  },
  {
   "cell_type": "markdown",
   "metadata": {},
   "source": [
    "#### Exploring the data\n",
    "___\n",
    "\n",
    " - dependent variable : 'Survived'\n",
    " - indepent variables : 'PassengerId', 'Pclass', 'Name', 'Sex', 'Age', 'SibSp', 'Parch', 'Ticket', 'Fare', 'Cabin', 'Embarked'"
   ]
  },
  {
   "cell_type": "code",
   "execution_count": 185,
   "metadata": {},
   "outputs": [
    {
     "name": "stdout",
     "output_type": "stream",
     "text": [
      "(891, 12)\n"
     ]
    },
    {
     "data": {
      "text/html": [
       "<div>\n",
       "<style scoped>\n",
       "    .dataframe tbody tr th:only-of-type {\n",
       "        vertical-align: middle;\n",
       "    }\n",
       "\n",
       "    .dataframe tbody tr th {\n",
       "        vertical-align: top;\n",
       "    }\n",
       "\n",
       "    .dataframe thead th {\n",
       "        text-align: right;\n",
       "    }\n",
       "</style>\n",
       "<table border=\"1\" class=\"dataframe\">\n",
       "  <thead>\n",
       "    <tr style=\"text-align: right;\">\n",
       "      <th></th>\n",
       "      <th>PassengerId</th>\n",
       "      <th>Survived</th>\n",
       "      <th>Pclass</th>\n",
       "      <th>Name</th>\n",
       "      <th>Sex</th>\n",
       "      <th>Age</th>\n",
       "      <th>SibSp</th>\n",
       "      <th>Parch</th>\n",
       "      <th>Ticket</th>\n",
       "      <th>Fare</th>\n",
       "      <th>Cabin</th>\n",
       "      <th>Embarked</th>\n",
       "    </tr>\n",
       "  </thead>\n",
       "  <tbody>\n",
       "    <tr>\n",
       "      <th>0</th>\n",
       "      <td>1</td>\n",
       "      <td>0</td>\n",
       "      <td>3</td>\n",
       "      <td>Braund, Mr. Owen Harris</td>\n",
       "      <td>male</td>\n",
       "      <td>22.0</td>\n",
       "      <td>1</td>\n",
       "      <td>0</td>\n",
       "      <td>A/5 21171</td>\n",
       "      <td>7.2500</td>\n",
       "      <td>NaN</td>\n",
       "      <td>S</td>\n",
       "    </tr>\n",
       "    <tr>\n",
       "      <th>1</th>\n",
       "      <td>2</td>\n",
       "      <td>1</td>\n",
       "      <td>1</td>\n",
       "      <td>Cumings, Mrs. John Bradley (Florence Briggs Th...</td>\n",
       "      <td>female</td>\n",
       "      <td>38.0</td>\n",
       "      <td>1</td>\n",
       "      <td>0</td>\n",
       "      <td>PC 17599</td>\n",
       "      <td>71.2833</td>\n",
       "      <td>C85</td>\n",
       "      <td>C</td>\n",
       "    </tr>\n",
       "    <tr>\n",
       "      <th>2</th>\n",
       "      <td>3</td>\n",
       "      <td>1</td>\n",
       "      <td>3</td>\n",
       "      <td>Heikkinen, Miss. Laina</td>\n",
       "      <td>female</td>\n",
       "      <td>26.0</td>\n",
       "      <td>0</td>\n",
       "      <td>0</td>\n",
       "      <td>STON/O2. 3101282</td>\n",
       "      <td>7.9250</td>\n",
       "      <td>NaN</td>\n",
       "      <td>S</td>\n",
       "    </tr>\n",
       "    <tr>\n",
       "      <th>3</th>\n",
       "      <td>4</td>\n",
       "      <td>1</td>\n",
       "      <td>1</td>\n",
       "      <td>Futrelle, Mrs. Jacques Heath (Lily May Peel)</td>\n",
       "      <td>female</td>\n",
       "      <td>35.0</td>\n",
       "      <td>1</td>\n",
       "      <td>0</td>\n",
       "      <td>113803</td>\n",
       "      <td>53.1000</td>\n",
       "      <td>C123</td>\n",
       "      <td>S</td>\n",
       "    </tr>\n",
       "    <tr>\n",
       "      <th>4</th>\n",
       "      <td>5</td>\n",
       "      <td>0</td>\n",
       "      <td>3</td>\n",
       "      <td>Allen, Mr. William Henry</td>\n",
       "      <td>male</td>\n",
       "      <td>35.0</td>\n",
       "      <td>0</td>\n",
       "      <td>0</td>\n",
       "      <td>373450</td>\n",
       "      <td>8.0500</td>\n",
       "      <td>NaN</td>\n",
       "      <td>S</td>\n",
       "    </tr>\n",
       "  </tbody>\n",
       "</table>\n",
       "</div>"
      ],
      "text/plain": [
       "   PassengerId  Survived  Pclass  \\\n",
       "0            1         0       3   \n",
       "1            2         1       1   \n",
       "2            3         1       3   \n",
       "3            4         1       1   \n",
       "4            5         0       3   \n",
       "\n",
       "                                                Name     Sex   Age  SibSp  \\\n",
       "0                            Braund, Mr. Owen Harris    male  22.0      1   \n",
       "1  Cumings, Mrs. John Bradley (Florence Briggs Th...  female  38.0      1   \n",
       "2                             Heikkinen, Miss. Laina  female  26.0      0   \n",
       "3       Futrelle, Mrs. Jacques Heath (Lily May Peel)  female  35.0      1   \n",
       "4                           Allen, Mr. William Henry    male  35.0      0   \n",
       "\n",
       "   Parch            Ticket     Fare Cabin Embarked  \n",
       "0      0         A/5 21171   7.2500   NaN        S  \n",
       "1      0          PC 17599  71.2833   C85        C  \n",
       "2      0  STON/O2. 3101282   7.9250   NaN        S  \n",
       "3      0            113803  53.1000  C123        S  \n",
       "4      0            373450   8.0500   NaN        S  "
      ]
     },
     "execution_count": 185,
     "metadata": {},
     "output_type": "execute_result"
    }
   ],
   "source": [
    "print(train.shape)\n",
    "train.head()"
   ]
  },
  {
   "cell_type": "code",
   "execution_count": 186,
   "metadata": {},
   "outputs": [
    {
     "data": {
      "text/plain": [
       "count    714.000000\n",
       "mean      29.699118\n",
       "std       14.526497\n",
       "min        0.420000\n",
       "25%       20.125000\n",
       "50%       28.000000\n",
       "75%       38.000000\n",
       "max       80.000000\n",
       "Name: Age, dtype: float64"
      ]
     },
     "execution_count": 186,
     "metadata": {},
     "output_type": "execute_result"
    }
   ],
   "source": [
    "train.Age.describe()"
   ]
  },
  {
   "cell_type": "code",
   "execution_count": 187,
   "metadata": {},
   "outputs": [
    {
     "data": {
      "image/png": "[encoded data removed]",
      "text/plain": [
       "<Figure size 1440x1800 with 9 Axes>"
      ]
     },
     "metadata": {},
     "output_type": "display_data"
    }
   ],
   "source": [
    "# defining the canvas and the subplots\n",
    "\n",
    "fig = plt.figure(figsize=(20,25))\n",
    "fig.suptitle('Exploratory Data Analysis',y=0.9,fontsize=20)\n",
    "grid = plt.GridSpec(5,2, wspace= 0.2,hspace=0.32)\n",
    "\n",
    "ax0 = plt.subplot(grid[0,0])\n",
    "ax1 = plt.subplot(grid[0,1])\n",
    "ax2 = plt.subplot(grid[1,0])\n",
    "ax3 = plt.subplot(grid[1,1])\n",
    "ax4 = plt.subplot(grid[2,:])\n",
    "ax5 = plt.subplot(grid[3,0])\n",
    "ax6 = plt.subplot(grid[3,1])\n",
    "ax7 = plt.subplot(grid[4,:])\n",
    "\n",
    "\n",
    "\n",
    "# distribution of survived\n",
    "data = train.Survived.value_counts(normalize=True)\n",
    "data.plot(kind='bar',ax=ax0)\n",
    "ax0.set_title('Distribution of Survived')\n",
    "ax0.text(x=-0.07,y=data[0]+0.008,s=f'{data[0]:.3f}')\n",
    "ax0.text(x=0.93,y=data[1]+0.008,s=f'{data[1]:.3f}')\n",
    "\n",
    "\n",
    "\n",
    "# dist survived per sex\n",
    "data_sex = train[['PassengerId','Sex','Survived']].groupby(['Sex','Survived'],as_index=False).count()\n",
    "sns.barplot(x='Survived',y='PassengerId',hue='Sex',data=data_sex,ax=ax1)\n",
    "ax1.set_title('Survived per Sex')\n",
    "ax1.set_xticklabels(labels=ax1.get_xticklabels(),rotation='vertical')\n",
    "ax1.set_xlabel('')\n",
    "ax1.set_ylabel('# of passengers')\n",
    "\n",
    "\n",
    "\n",
    "# histogram of ages\n",
    "data_age = train[train['Age'].notna()].Age\n",
    "data_age_mean = data_age.mean()\n",
    "data_age_mode = statistics.mode(data_age)\n",
    "data_age_median = data_age.median()\n",
    "sns.distplot(data_age,ax=ax4,kde=False)\n",
    "\n",
    "ax4.set_ylabel('# of passengers')\n",
    "ax4.set_title('Histogram of Age')\n",
    "ax4.axvline(data_age_mean,ls='-',lw=2.5,c='black')\n",
    "ax4.axvline(data_age_mode,ls='-',lw=2.5,c='red')\n",
    "ax4.axvline(data_age_median,ls='-',lw=2.5,c='green')\n",
    "ax4.legend((f'Mean:{data_age_mean:.1f}',f'Mode:{data_age_mode:.1f}',f'Median:{data_age_median:.1f}'),title='Stats')\n",
    "ax4.set_xticks(range(0,84,4))\n",
    "\n",
    "\n",
    "\n",
    "# distribution of embarked\n",
    "data_embarked = train[['PassengerId','Embarked','Survived']].groupby(['Embarked','Survived'],as_index=False).count()\n",
    "sns.barplot(x='Survived',y='PassengerId',hue='Embarked',data=data_embarked,ax=ax3)\n",
    "ax3.set_title('Survived per Embarked')\n",
    "ax3.set_xticklabels(labels=ax3.get_xticklabels(),rotation='vertical')\n",
    "ax3.set_xlabel('')\n",
    "ax3.set_ylabel('# of passengers');\n",
    "\n",
    "\n",
    "\n",
    "# distribution of embarked\n",
    "data_class = train[['PassengerId','Pclass','Survived']].groupby(['Pclass','Survived'],as_index=False).count()\n",
    "sns.barplot(x='Survived',y='PassengerId',hue='Pclass',data=data_class,ax=ax2)\n",
    "ax2.set_title('Survived per Pclass')\n",
    "ax2.set_xticklabels(labels=ax2.get_xticklabels(),rotation='vertical')\n",
    "ax2.set_xlabel('')\n",
    "ax2.set_ylabel('# of passengers');\n",
    "\n",
    "\n",
    "\n",
    "# swarmplot of fare\n",
    "sns.swarmplot(y=train.Fare,x=train.Survived,ax=ax6)\n",
    "ax6.set_title('Swarmplot of Fare');\n",
    "ax6.set_xticklabels(labels=ax6.get_xticklabels(),rotation='vertical')\n",
    "\n",
    "\n",
    "# swarmplot of age\n",
    "sns.swarmplot(y=train.Age,x=train.Survived,ax=ax5)\n",
    "ax5.set_title('Swarmplot of Age');\n",
    "ax5.set_xticklabels(labels=ax6.get_xticklabels(),rotation='vertical')\n",
    "\n",
    "\n",
    "# heatmap correlation of Fare,Survived and Age\n",
    "sns.heatmap(train[['Fare','Age','Survived']].corr(),cmap='GnBu',annot=True,ax=ax7,)\n",
    "ax7.set_title('Correlation heatmap');"
   ]
  },
  {
   "cell_type": "code",
   "execution_count": 188,
   "metadata": {},
   "outputs": [
    {
     "data": {
      "text/plain": [
       "PassengerId      0\n",
       "Survived         0\n",
       "Pclass           0\n",
       "Name             0\n",
       "Sex              0\n",
       "Age            177\n",
       "SibSp            0\n",
       "Parch            0\n",
       "Ticket           0\n",
       "Fare             0\n",
       "Cabin          687\n",
       "Embarked         2\n",
       "dtype: int64"
      ]
     },
     "execution_count": 188,
     "metadata": {},
     "output_type": "execute_result"
    }
   ],
   "source": [
    "## verifying the number of null values\n",
    "\n",
    "train.isna().sum()"
   ]
  },
  {
   "cell_type": "markdown",
   "metadata": {},
   "source": [
    "#### Data preparation\n",
    "___\n",
    "- Deal with null values\n",
    "- Remove unused columns\n",
    "- Feature engineering\n",
    "- Feature Scaling\n",
    "- Feature Encoding\n",
    " \n",
    "Strategy: define pipelines and functions to automate the model evaluation phase"
   ]
  },
  {
   "cell_type": "code",
   "execution_count": 190,
   "metadata": {},
   "outputs": [],
   "source": [
    "def inputer_age(dataset):\n",
    "    simple = SimpleImputer(missing_values=np.nan,strategy='mean')\n",
    "    dataset['Age'] = simple.fit_transform(dataset[['Age']])\n",
    "    return dataset\n",
    "\n",
    "def inputer_embarked(dataset):\n",
    "    simple = SimpleImputer(missing_values=np.nan,strategy='most_frequent')\n",
    "    dataset['Embarked'] = simple.fit_transform(dataset[['Embarked']])\n",
    "    return dataset\n",
    "\n",
    "def inputer_fare(dataset):\n",
    "    simple = SimpleImputer(missing_values=np.nan,strategy='mean')\n",
    "    dataset['Fare'] = simple.fit_transform(dataset[['Fare']])\n",
    "    return dataset\n",
    "\n",
    "def deal(dataset):\n",
    "    dataset.drop(['Cabin','Ticket','PassengerId','Name'],axis=1,inplace=True)\n",
    "    inputer_age(dataset)\n",
    "    inputer_embarked(dataset)\n",
    "    inputer_fare(dataset)\n",
    "    return dataset"
   ]
  },
  {
   "cell_type": "code",
   "execution_count": 191,
   "metadata": {},
   "outputs": [],
   "source": [
    "train = deal(train)"
   ]
  },
  {
   "cell_type": "code",
   "execution_count": 192,
   "metadata": {},
   "outputs": [
    {
     "data": {
      "text/plain": [
       "Survived    0\n",
       "Pclass      0\n",
       "Sex         0\n",
       "Age         0\n",
       "SibSp       0\n",
       "Parch       0\n",
       "Fare        0\n",
       "Embarked    0\n",
       "dtype: int64"
      ]
     },
     "execution_count": 192,
     "metadata": {},
     "output_type": "execute_result"
    }
   ],
   "source": [
    "train.isna().sum()"
   ]
  },
  {
   "cell_type": "code",
   "execution_count": 193,
   "metadata": {},
   "outputs": [
    {
     "data": {
      "text/html": [
       "<div>\n",
       "<style scoped>\n",
       "    .dataframe tbody tr th:only-of-type {\n",
       "        vertical-align: middle;\n",
       "    }\n",
       "\n",
       "    .dataframe tbody tr th {\n",
       "        vertical-align: top;\n",
       "    }\n",
       "\n",
       "    .dataframe thead th {\n",
       "        text-align: right;\n",
       "    }\n",
       "</style>\n",
       "<table border=\"1\" class=\"dataframe\">\n",
       "  <thead>\n",
       "    <tr style=\"text-align: right;\">\n",
       "      <th></th>\n",
       "      <th>Survived</th>\n",
       "      <th>Pclass</th>\n",
       "      <th>Sex</th>\n",
       "      <th>Age</th>\n",
       "      <th>SibSp</th>\n",
       "      <th>Parch</th>\n",
       "      <th>Fare</th>\n",
       "      <th>Embarked</th>\n",
       "    </tr>\n",
       "  </thead>\n",
       "  <tbody>\n",
       "    <tr>\n",
       "      <th>0</th>\n",
       "      <td>0</td>\n",
       "      <td>3</td>\n",
       "      <td>male</td>\n",
       "      <td>22.0</td>\n",
       "      <td>1</td>\n",
       "      <td>0</td>\n",
       "      <td>7.2500</td>\n",
       "      <td>S</td>\n",
       "    </tr>\n",
       "    <tr>\n",
       "      <th>1</th>\n",
       "      <td>1</td>\n",
       "      <td>1</td>\n",
       "      <td>female</td>\n",
       "      <td>38.0</td>\n",
       "      <td>1</td>\n",
       "      <td>0</td>\n",
       "      <td>71.2833</td>\n",
       "      <td>C</td>\n",
       "    </tr>\n",
       "    <tr>\n",
       "      <th>2</th>\n",
       "      <td>1</td>\n",
       "      <td>3</td>\n",
       "      <td>female</td>\n",
       "      <td>26.0</td>\n",
       "      <td>0</td>\n",
       "      <td>0</td>\n",
       "      <td>7.9250</td>\n",
       "      <td>S</td>\n",
       "    </tr>\n",
       "    <tr>\n",
       "      <th>3</th>\n",
       "      <td>1</td>\n",
       "      <td>1</td>\n",
       "      <td>female</td>\n",
       "      <td>35.0</td>\n",
       "      <td>1</td>\n",
       "      <td>0</td>\n",
       "      <td>53.1000</td>\n",
       "      <td>S</td>\n",
       "    </tr>\n",
       "    <tr>\n",
       "      <th>4</th>\n",
       "      <td>0</td>\n",
       "      <td>3</td>\n",
       "      <td>male</td>\n",
       "      <td>35.0</td>\n",
       "      <td>0</td>\n",
       "      <td>0</td>\n",
       "      <td>8.0500</td>\n",
       "      <td>S</td>\n",
       "    </tr>\n",
       "  </tbody>\n",
       "</table>\n",
       "</div>"
      ],
      "text/plain": [
       "   Survived  Pclass     Sex   Age  SibSp  Parch     Fare Embarked\n",
       "0         0       3    male  22.0      1      0   7.2500        S\n",
       "1         1       1  female  38.0      1      0  71.2833        C\n",
       "2         1       3  female  26.0      0      0   7.9250        S\n",
       "3         1       1  female  35.0      1      0  53.1000        S\n",
       "4         0       3    male  35.0      0      0   8.0500        S"
      ]
     },
     "execution_count": 193,
     "metadata": {},
     "output_type": "execute_result"
    }
   ],
   "source": [
    "train.head()"
   ]
  },
  {
   "cell_type": "code",
   "execution_count": 194,
   "metadata": {},
   "outputs": [],
   "source": [
    "'''def title(value):\n",
    "    try:\n",
    "        return re.search('Mr\\.|Ms\\.|Rev\\.|Miss\\.|Mrs\\.|Don\\.|Sir\\.|Master\\.|Dr\\.|Mme\\.|Capt\\.|Col\\.|Major\\.|Countess\\.|Lady\\.|Mlle\\.|Jonkheer\\.',value).group(0)\n",
    "    except:\n",
    "        print(f'Found : {value}')\n",
    "        return np.nan'''\n",
    "    \n",
    "def above_expectancy(value):\n",
    "    if value > 54:\n",
    "        return 1\n",
    "    else:\n",
    "        return 0\n",
    "\n",
    "def how_above(value):\n",
    "    return value - 54\n",
    "    \n",
    "def time_of_life(df):\n",
    "    df['time_of_life'] = pd.cut(df['Age'],bins=[0,13.5,27,40.5,df['Age'].max()],labels=['child','young','adult','senior'])\n",
    "    \n",
    "def family_size(df):\n",
    "    df['family_size'] = df['SibSp'] + df['Parch']\n",
    "    \n",
    "def quantile_fare_cut(df):\n",
    "    df['fare_cut'] = pd.qcut(df['Fare'],q=5,labels=['very low','low','medium','high','very high'])\n",
    "\n",
    "def feature_engineering(dataset):\n",
    "    #dataset['Name'] = dataset['Name'].apply(title)\n",
    "    dataset['above'] = dataset['Age'].apply(above_expectancy)\n",
    "    dataset['how_above'] = dataset['Age'].apply(how_above)\n",
    "    time_of_life(dataset)\n",
    "    family_size(dataset)\n",
    "    quantile_fare_cut(dataset)\n",
    "    return dataset"
   ]
  },
  {
   "cell_type": "code",
   "execution_count": 195,
   "metadata": {},
   "outputs": [],
   "source": [
    "train = feature_engineering(train)"
   ]
  },
  {
   "cell_type": "code",
   "execution_count": 196,
   "metadata": {},
   "outputs": [
    {
     "data": {
      "text/html": [
       "<div>\n",
       "<style scoped>\n",
       "    .dataframe tbody tr th:only-of-type {\n",
       "        vertical-align: middle;\n",
       "    }\n",
       "\n",
       "    .dataframe tbody tr th {\n",
       "        vertical-align: top;\n",
       "    }\n",
       "\n",
       "    .dataframe thead th {\n",
       "        text-align: right;\n",
       "    }\n",
       "</style>\n",
       "<table border=\"1\" class=\"dataframe\">\n",
       "  <thead>\n",
       "    <tr style=\"text-align: right;\">\n",
       "      <th></th>\n",
       "      <th>Survived</th>\n",
       "      <th>Pclass</th>\n",
       "      <th>Sex</th>\n",
       "      <th>Age</th>\n",
       "      <th>SibSp</th>\n",
       "      <th>Parch</th>\n",
       "      <th>Fare</th>\n",
       "      <th>Embarked</th>\n",
       "      <th>above</th>\n",
       "      <th>how_above</th>\n",
       "      <th>time_of_life</th>\n",
       "      <th>family_size</th>\n",
       "      <th>fare_cut</th>\n",
       "    </tr>\n",
       "  </thead>\n",
       "  <tbody>\n",
       "    <tr>\n",
       "      <th>0</th>\n",
       "      <td>0</td>\n",
       "      <td>3</td>\n",
       "      <td>male</td>\n",
       "      <td>22.0</td>\n",
       "      <td>1</td>\n",
       "      <td>0</td>\n",
       "      <td>7.2500</td>\n",
       "      <td>S</td>\n",
       "      <td>0</td>\n",
       "      <td>-32.0</td>\n",
       "      <td>young</td>\n",
       "      <td>1</td>\n",
       "      <td>very low</td>\n",
       "    </tr>\n",
       "    <tr>\n",
       "      <th>1</th>\n",
       "      <td>1</td>\n",
       "      <td>1</td>\n",
       "      <td>female</td>\n",
       "      <td>38.0</td>\n",
       "      <td>1</td>\n",
       "      <td>0</td>\n",
       "      <td>71.2833</td>\n",
       "      <td>C</td>\n",
       "      <td>0</td>\n",
       "      <td>-16.0</td>\n",
       "      <td>adult</td>\n",
       "      <td>1</td>\n",
       "      <td>very high</td>\n",
       "    </tr>\n",
       "    <tr>\n",
       "      <th>2</th>\n",
       "      <td>1</td>\n",
       "      <td>3</td>\n",
       "      <td>female</td>\n",
       "      <td>26.0</td>\n",
       "      <td>0</td>\n",
       "      <td>0</td>\n",
       "      <td>7.9250</td>\n",
       "      <td>S</td>\n",
       "      <td>0</td>\n",
       "      <td>-28.0</td>\n",
       "      <td>young</td>\n",
       "      <td>0</td>\n",
       "      <td>low</td>\n",
       "    </tr>\n",
       "    <tr>\n",
       "      <th>3</th>\n",
       "      <td>1</td>\n",
       "      <td>1</td>\n",
       "      <td>female</td>\n",
       "      <td>35.0</td>\n",
       "      <td>1</td>\n",
       "      <td>0</td>\n",
       "      <td>53.1000</td>\n",
       "      <td>S</td>\n",
       "      <td>0</td>\n",
       "      <td>-19.0</td>\n",
       "      <td>adult</td>\n",
       "      <td>1</td>\n",
       "      <td>very high</td>\n",
       "    </tr>\n",
       "    <tr>\n",
       "      <th>4</th>\n",
       "      <td>0</td>\n",
       "      <td>3</td>\n",
       "      <td>male</td>\n",
       "      <td>35.0</td>\n",
       "      <td>0</td>\n",
       "      <td>0</td>\n",
       "      <td>8.0500</td>\n",
       "      <td>S</td>\n",
       "      <td>0</td>\n",
       "      <td>-19.0</td>\n",
       "      <td>adult</td>\n",
       "      <td>0</td>\n",
       "      <td>low</td>\n",
       "    </tr>\n",
       "  </tbody>\n",
       "</table>\n",
       "</div>"
      ],
      "text/plain": [
       "   Survived  Pclass     Sex   Age  SibSp  Parch     Fare Embarked  above  \\\n",
       "0         0       3    male  22.0      1      0   7.2500        S      0   \n",
       "1         1       1  female  38.0      1      0  71.2833        C      0   \n",
       "2         1       3  female  26.0      0      0   7.9250        S      0   \n",
       "3         1       1  female  35.0      1      0  53.1000        S      0   \n",
       "4         0       3    male  35.0      0      0   8.0500        S      0   \n",
       "\n",
       "   how_above time_of_life  family_size   fare_cut  \n",
       "0      -32.0        young            1   very low  \n",
       "1      -16.0        adult            1  very high  \n",
       "2      -28.0        young            0        low  \n",
       "3      -19.0        adult            1  very high  \n",
       "4      -19.0        adult            0        low  "
      ]
     },
     "execution_count": 196,
     "metadata": {},
     "output_type": "execute_result"
    }
   ],
   "source": [
    "train.head()"
   ]
  },
  {
   "cell_type": "code",
   "execution_count": 197,
   "metadata": {},
   "outputs": [],
   "source": [
    "train_num = train[['Age','SibSp','Parch','Fare','how_above','family_size']]\n",
    "transf_min = QuantileTransformer(n_quantiles=20,output_distribution='normal')\n",
    "train_df_num = pd.DataFrame(transf_min.fit_transform(train_num))"
   ]
  },
  {
   "cell_type": "code",
   "execution_count": 199,
   "metadata": {},
   "outputs": [],
   "source": [
    "train_cat = train[['Pclass','Sex','Embarked','above','time_of_life','fare_cut']]\n",
    "ohe = OneHotEncoder(sparse=False)\n",
    "train_df_cat = pd.DataFrame(ohe.fit_transform(train_cat),columns=ohe.get_feature_names())"
   ]
  },
  {
   "cell_type": "code",
   "execution_count": 200,
   "metadata": {},
   "outputs": [],
   "source": [
    "x = pd.concat([train_df_num,train_df_cat],axis=1,sort=False).values\n",
    "y = train['Survived'].values"
   ]
  },
  {
   "cell_type": "code",
   "execution_count": 209,
   "metadata": {},
   "outputs": [],
   "source": [
    "x_train,x_test,y_train,y_test = train_test_split(x,y,test_size=0.25)"
   ]
  },
  {
   "cell_type": "markdown",
   "metadata": {},
   "source": [
    "#### Modeling\n",
    "___\n",
    "- LogisticRegression\n",
    "- RandomForestClassifier\n",
    "- SVC"
   ]
  },
  {
   "cell_type": "code",
   "execution_count": 210,
   "metadata": {},
   "outputs": [],
   "source": [
    "logreg = LogisticRegression(max_iter=1000,solver='lbfgs')\n",
    "rf = RandomForestClassifier(max_depth=12,n_estimators=1500)\n",
    "svc = SVC(degree=4,gamma='auto')"
   ]
  },
  {
   "cell_type": "code",
   "execution_count": 211,
   "metadata": {},
   "outputs": [
    {
     "data": {
      "text/plain": [
       "LogisticRegression(C=1.0, class_weight=None, dual=False, fit_intercept=True,\n",
       "                   intercept_scaling=1, l1_ratio=None, max_iter=1000,\n",
       "                   multi_class='warn', n_jobs=None, penalty='l2',\n",
       "                   random_state=None, solver='lbfgs', tol=0.0001, verbose=0,\n",
       "                   warm_start=False)"
      ]
     },
     "execution_count": 211,
     "metadata": {},
     "output_type": "execute_result"
    }
   ],
   "source": [
    "logreg.fit(x_train,y_train)"
   ]
  },
  {
   "cell_type": "code",
   "execution_count": 212,
   "metadata": {},
   "outputs": [
    {
     "data": {
      "text/plain": [
       "RandomForestClassifier(bootstrap=True, class_weight=None, criterion='gini',\n",
       "                       max_depth=12, max_features='auto', max_leaf_nodes=None,\n",
       "                       min_impurity_decrease=0.0, min_impurity_split=None,\n",
       "                       min_samples_leaf=1, min_samples_split=2,\n",
       "                       min_weight_fraction_leaf=0.0, n_estimators=1500,\n",
       "                       n_jobs=None, oob_score=False, random_state=None,\n",
       "                       verbose=0, warm_start=False)"
      ]
     },
     "execution_count": 212,
     "metadata": {},
     "output_type": "execute_result"
    }
   ],
   "source": [
    "rf.fit(x_train,y_train)"
   ]
  },
  {
   "cell_type": "code",
   "execution_count": 213,
   "metadata": {},
   "outputs": [
    {
     "data": {
      "text/plain": [
       "SVC(C=1.0, cache_size=200, class_weight=None, coef0=0.0,\n",
       "    decision_function_shape='ovr', degree=4, gamma='auto', kernel='rbf',\n",
       "    max_iter=-1, probability=False, random_state=None, shrinking=True,\n",
       "    tol=0.001, verbose=False)"
      ]
     },
     "execution_count": 213,
     "metadata": {},
     "output_type": "execute_result"
    }
   ],
   "source": [
    "svc.fit(x_train,y_train)"
   ]
  },
  {
   "cell_type": "code",
   "execution_count": 214,
   "metadata": {},
   "outputs": [
    {
     "data": {
      "text/plain": [
       "0.7937219730941704"
      ]
     },
     "execution_count": 214,
     "metadata": {},
     "output_type": "execute_result"
    }
   ],
   "source": [
    "logreg.score(x_test,y_test)"
   ]
  },
  {
   "cell_type": "code",
   "execution_count": 215,
   "metadata": {},
   "outputs": [
    {
     "data": {
      "text/plain": [
       "0.8295964125560538"
      ]
     },
     "execution_count": 215,
     "metadata": {},
     "output_type": "execute_result"
    }
   ],
   "source": [
    "rf.score(x_test,y_test)"
   ]
  },
  {
   "cell_type": "code",
   "execution_count": 216,
   "metadata": {},
   "outputs": [
    {
     "data": {
      "text/plain": [
       "0.8026905829596412"
      ]
     },
     "execution_count": 216,
     "metadata": {},
     "output_type": "execute_result"
    }
   ],
   "source": [
    "svc.score(x_test,y_test)"
   ]
  },
  {
   "cell_type": "code",
   "execution_count": 219,
   "metadata": {},
   "outputs": [],
   "source": [
    "from sklearn.model_selection import GridSearchCV"
   ]
  },
  {
   "cell_type": "code",
   "execution_count": 223,
   "metadata": {},
   "outputs": [],
   "source": [
    "param_grid = {'n_estimators':[100,200,300,400,500],\n",
    "             'min_samples_split':[2,3,4,5,6,7,8,9,10],\n",
    "             'min_samples_leaf':[2,5,10],\n",
    "             'max_depth':[5,10,15,20,25]}\n",
    "\n",
    "grid = GridSearchCV(rf,param_grid,cv=5)"
   ]
  },
  {
   "cell_type": "code",
   "execution_count": 224,
   "metadata": {},
   "outputs": [
    {
     "data": {
      "text/plain": [
       "GridSearchCV(cv=5, error_score='raise-deprecating',\n",
       "             estimator=RandomForestClassifier(bootstrap=True, class_weight=None,\n",
       "                                              criterion='gini', max_depth=12,\n",
       "                                              max_features='auto',\n",
       "                                              max_leaf_nodes=None,\n",
       "                                              min_impurity_decrease=0.0,\n",
       "                                              min_impurity_split=None,\n",
       "                                              min_samples_leaf=1,\n",
       "                                              min_samples_split=2,\n",
       "                                              min_weight_fraction_leaf=0.0,\n",
       "                                              n_estimators=1500, n_jobs=None,\n",
       "                                              oob_score=False,\n",
       "                                              random_state=None, verbose=0,\n",
       "                                              warm_start=False),\n",
       "             iid='warn', n_jobs=None,\n",
       "             param_grid={'max_depth': [5, 10, 15, 20, 25],\n",
       "                         'min_samples_leaf': [2, 5, 10],\n",
       "                         'min_samples_split': [2, 3, 4, 5, 6, 7, 8, 9, 10],\n",
       "                         'n_estimators': [100, 200, 300, 400, 500]},\n",
       "             pre_dispatch='2*n_jobs', refit=True, return_train_score=False,\n",
       "             scoring=None, verbose=0)"
      ]
     },
     "execution_count": 224,
     "metadata": {},
     "output_type": "execute_result"
    }
   ],
   "source": [
    "grid.fit(x,y)"
   ]
  },
  {
   "cell_type": "code",
   "execution_count": 233,
   "metadata": {},
   "outputs": [
    {
     "data": {
      "text/plain": [
       "{'max_depth': 15,\n",
       " 'min_samples_leaf': 2,\n",
       " 'min_samples_split': 4,\n",
       " 'n_estimators': 300}"
      ]
     },
     "execution_count": 233,
     "metadata": {},
     "output_type": "execute_result"
    }
   ],
   "source": [
    "grid.best_params_"
   ]
  },
  {
   "cell_type": "code",
   "execution_count": 234,
   "metadata": {},
   "outputs": [
    {
     "data": {
      "text/plain": [
       "0.8361391694725028"
      ]
     },
     "execution_count": 234,
     "metadata": {},
     "output_type": "execute_result"
    }
   ],
   "source": [
    "grid.best_score_"
   ]
  },
  {
   "cell_type": "code",
   "execution_count": 235,
   "metadata": {},
   "outputs": [],
   "source": [
    "rf_grid = grid.best_estimator_"
   ]
  },
  {
   "cell_type": "code",
   "execution_count": 244,
   "metadata": {},
   "outputs": [],
   "source": [
    "test = deal(test)"
   ]
  },
  {
   "cell_type": "code",
   "execution_count": 245,
   "metadata": {},
   "outputs": [],
   "source": [
    "test = feature_engineering(test)"
   ]
  },
  {
   "cell_type": "code",
   "execution_count": 247,
   "metadata": {},
   "outputs": [],
   "source": [
    "test_num = test[['Age','SibSp','Parch','Fare','how_above','family_size']]\n",
    "transf_min = QuantileTransformer(n_quantiles=20,output_distribution='normal')\n",
    "test_df_num = pd.DataFrame(transf_min.fit_transform(test_num))"
   ]
  },
  {
   "cell_type": "code",
   "execution_count": 248,
   "metadata": {},
   "outputs": [],
   "source": [
    "test_cat = test[['Pclass','Sex','Embarked','above','time_of_life','fare_cut']]\n",
    "ohe = OneHotEncoder(sparse=False)\n",
    "test_df_cat = pd.DataFrame(ohe.fit_transform(test_cat),columns=ohe.get_feature_names())"
   ]
  },
  {
   "cell_type": "code",
   "execution_count": 256,
   "metadata": {},
   "outputs": [],
   "source": [
    "x_final_test = pd.concat([test_df_num,test_df_cat],axis=1,sort=False).values"
   ]
  },
  {
   "cell_type": "code",
   "execution_count": 261,
   "metadata": {},
   "outputs": [],
   "source": [
    "submission = pd.read_csv('../data/test.csv')\n",
    "submission['Survived'] = rf_grid.predict(x_final_test)"
   ]
  },
  {
   "cell_type": "code",
   "execution_count": 264,
   "metadata": {},
   "outputs": [],
   "source": [
    "submission[['PassengerId','Survived']].to_csv('submission.csv',index=False)"
   ]
  }
 ],
 "metadata": {
  "kernelspec": {
   "display_name": "Python 3",
   "language": "python",
   "name": "python3"
  },
  "language_info": {
   "codemirror_mode": {
    "name": "ipython",
    "version": 3
   },
   "file_extension": ".py",
   "mimetype": "text/x-python",
   "name": "python",
   "nbconvert_exporter": "python",
   "pygments_lexer": "ipython3",
   "version": "3.7.5"
  }
 },
 "nbformat": 4,
 "nbformat_minor": 4
}
